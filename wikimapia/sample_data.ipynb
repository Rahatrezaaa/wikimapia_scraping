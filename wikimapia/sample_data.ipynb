{
 "cells": [
  {
   "cell_type": "code",
   "execution_count": 1,
   "id": "5da827f3-c63d-4a3c-9f83-3b07d96d9fbf",
   "metadata": {},
   "outputs": [],
   "source": [
    "import pandas as pd"
   ]
  },
  {
   "cell_type": "code",
   "execution_count": 12,
   "id": "45d7e78d-4f3e-460b-8576-fcbb05434d13",
   "metadata": {},
   "outputs": [],
   "source": [
    "df=pd.read_csv(\"0_120.csv\")"
   ]
  },
  {
   "cell_type": "code",
   "execution_count": 13,
   "id": "ea85ce8e-a2c8-479d-a52e-e28f2cf547f2",
   "metadata": {},
   "outputs": [
    {
     "data": {
      "text/html": [
       "<div>\n",
       "<style scoped>\n",
       "    .dataframe tbody tr th:only-of-type {\n",
       "        vertical-align: middle;\n",
       "    }\n",
       "\n",
       "    .dataframe tbody tr th {\n",
       "        vertical-align: top;\n",
       "    }\n",
       "\n",
       "    .dataframe thead th {\n",
       "        text-align: right;\n",
       "    }\n",
       "</style>\n",
       "<table border=\"1\" class=\"dataframe\">\n",
       "  <thead>\n",
       "    <tr style=\"text-align: right;\">\n",
       "      <th></th>\n",
       "      <th>hierarchy</th>\n",
       "      <th>lat</th>\n",
       "      <th>link</th>\n",
       "      <th>lng</th>\n",
       "      <th>name</th>\n",
       "      <th>nearby_places</th>\n",
       "      <th>similar_places</th>\n",
       "      <th>tag</th>\n",
       "    </tr>\n",
       "  </thead>\n",
       "  <tbody>\n",
       "    <tr>\n",
       "      <th>0</th>\n",
       "      <td>World,India,Andaman and Nicobar Islands,Bombuflat</td>\n",
       "      <td>11.687840</td>\n",
       "      <td>http://wikimapia.org/277134/Chatham-Saw-Mill</td>\n",
       "      <td>92.724653</td>\n",
       "      <td>Chatham Saw Mill</td>\n",
       "      <td>[{'name': 'Chatham Island', 'distance': None},...</td>\n",
       "      <td>[{'name': 'Maya Hotels: Cheater Gautam Shah ( ...</td>\n",
       "      <td>NaN</td>\n",
       "    </tr>\n",
       "    <tr>\n",
       "      <th>1</th>\n",
       "      <td>World,India,Andaman and Nicobar Islands,Bombuflat</td>\n",
       "      <td>11.683086</td>\n",
       "      <td>http://wikimapia.org/277111/Haddo-Police-Station</td>\n",
       "      <td>92.723794</td>\n",
       "      <td>Haddo Police Station - Port Blair</td>\n",
       "      <td>[{'name': 'Haddo Jetty', 'distance': '0.4\\xa0k...</td>\n",
       "      <td>[{'name': 'Maya Hotels: Cheater Gautam Shah ( ...</td>\n",
       "      <td>NaN</td>\n",
       "    </tr>\n",
       "    <tr>\n",
       "      <th>2</th>\n",
       "      <td>World,India,Andaman and Nicobar Islands,Bombuflat</td>\n",
       "      <td>11.680428</td>\n",
       "      <td>http://wikimapia.org/277073/Govt-Sr-Sec-School...</td>\n",
       "      <td>92.722772</td>\n",
       "      <td>Govt. Sr. Sec. School Telugu Medium - Port Blair</td>\n",
       "      <td>[{'name': 'Mini Zoo', 'distance': '0.4\\xa0km'}...</td>\n",
       "      <td>[{'name': 'Maya Hotels: Cheater Gautam Shah ( ...</td>\n",
       "      <td>NaN</td>\n",
       "    </tr>\n",
       "    <tr>\n",
       "      <th>3</th>\n",
       "      <td>World,India,Andaman and Nicobar Islands,Bombuflat</td>\n",
       "      <td>11.680950</td>\n",
       "      <td>http://wikimapia.org/277097/Van-Vikas-Bawan</td>\n",
       "      <td>92.722217</td>\n",
       "      <td>Van Vikas Bawan - Port Blair</td>\n",
       "      <td>[{'name': 'Haddo Jetty', 'distance': '0.4\\xa0k...</td>\n",
       "      <td>[{'name': 'Maya Hotels: Cheater Gautam Shah ( ...</td>\n",
       "      <td>NaN</td>\n",
       "    </tr>\n",
       "    <tr>\n",
       "      <th>4</th>\n",
       "      <td>World,India,Andaman and Nicobar Islands,Bombuflat</td>\n",
       "      <td>12.914941</td>\n",
       "      <td>http://wikimapia.org/471304/Burmese-Buddhist-P...</td>\n",
       "      <td>92.897231</td>\n",
       "      <td>Burmese Buddhist Pagoda - Mayabunder</td>\n",
       "      <td>[{'name': 'mayabunder helipad', 'distance': '0...</td>\n",
       "      <td>[{'name': 'Saraswati Mela Ground', 'distance':...</td>\n",
       "      <td>religion</td>\n",
       "    </tr>\n",
       "  </tbody>\n",
       "</table>\n",
       "</div>"
      ],
      "text/plain": [
       "                                           hierarchy        lat  \\\n",
       "0  World,India,Andaman and Nicobar Islands,Bombuflat  11.687840   \n",
       "1  World,India,Andaman and Nicobar Islands,Bombuflat  11.683086   \n",
       "2  World,India,Andaman and Nicobar Islands,Bombuflat  11.680428   \n",
       "3  World,India,Andaman and Nicobar Islands,Bombuflat  11.680950   \n",
       "4  World,India,Andaman and Nicobar Islands,Bombuflat  12.914941   \n",
       "\n",
       "                                                link        lng  \\\n",
       "0       http://wikimapia.org/277134/Chatham-Saw-Mill  92.724653   \n",
       "1   http://wikimapia.org/277111/Haddo-Police-Station  92.723794   \n",
       "2  http://wikimapia.org/277073/Govt-Sr-Sec-School...  92.722772   \n",
       "3        http://wikimapia.org/277097/Van-Vikas-Bawan  92.722217   \n",
       "4  http://wikimapia.org/471304/Burmese-Buddhist-P...  92.897231   \n",
       "\n",
       "                                               name  \\\n",
       "0                                  Chatham Saw Mill   \n",
       "1                 Haddo Police Station - Port Blair   \n",
       "2  Govt. Sr. Sec. School Telugu Medium - Port Blair   \n",
       "3                      Van Vikas Bawan - Port Blair   \n",
       "4              Burmese Buddhist Pagoda - Mayabunder   \n",
       "\n",
       "                                       nearby_places  \\\n",
       "0  [{'name': 'Chatham Island', 'distance': None},...   \n",
       "1  [{'name': 'Haddo Jetty', 'distance': '0.4\\xa0k...   \n",
       "2  [{'name': 'Mini Zoo', 'distance': '0.4\\xa0km'}...   \n",
       "3  [{'name': 'Haddo Jetty', 'distance': '0.4\\xa0k...   \n",
       "4  [{'name': 'mayabunder helipad', 'distance': '0...   \n",
       "\n",
       "                                      similar_places       tag  \n",
       "0  [{'name': 'Maya Hotels: Cheater Gautam Shah ( ...       NaN  \n",
       "1  [{'name': 'Maya Hotels: Cheater Gautam Shah ( ...       NaN  \n",
       "2  [{'name': 'Maya Hotels: Cheater Gautam Shah ( ...       NaN  \n",
       "3  [{'name': 'Maya Hotels: Cheater Gautam Shah ( ...       NaN  \n",
       "4  [{'name': 'Saraswati Mela Ground', 'distance':...  religion  "
      ]
     },
     "execution_count": 13,
     "metadata": {},
     "output_type": "execute_result"
    }
   ],
   "source": [
    "df.head()"
   ]
  },
  {
   "cell_type": "code",
   "execution_count": 14,
   "id": "8febd61e-05bc-4275-abbb-6a9108c21d4f",
   "metadata": {},
   "outputs": [
    {
     "data": {
      "text/plain": [
       "3184"
      ]
     },
     "execution_count": 14,
     "metadata": {},
     "output_type": "execute_result"
    }
   ],
   "source": [
    "len(df[df.hierarchy==\"World,India,Bihar,Bhagalpur\"])"
   ]
  },
  {
   "cell_type": "code",
   "execution_count": 15,
   "id": "695acd28-91e4-4c89-94d6-7b24c1a156a1",
   "metadata": {},
   "outputs": [],
   "source": [
    "bgp=df[df.hierarchy==\"World,India,Bihar,Bhagalpur\"]"
   ]
  },
  {
   "cell_type": "code",
   "execution_count": 16,
   "id": "8332975c-7258-4217-8796-7fa253f68e28",
   "metadata": {},
   "outputs": [],
   "source": [
    "bgp.to_csv(\"bhagalpur.csv\",index=False)"
   ]
  },
  {
   "cell_type": "code",
   "execution_count": 17,
   "id": "ac48cbe1-b758-4e6f-b86f-7bf8d3dc5d14",
   "metadata": {},
   "outputs": [
    {
     "data": {
      "text/html": [
       "<div>\n",
       "<style scoped>\n",
       "    .dataframe tbody tr th:only-of-type {\n",
       "        vertical-align: middle;\n",
       "    }\n",
       "\n",
       "    .dataframe tbody tr th {\n",
       "        vertical-align: top;\n",
       "    }\n",
       "\n",
       "    .dataframe thead th {\n",
       "        text-align: right;\n",
       "    }\n",
       "</style>\n",
       "<table border=\"1\" class=\"dataframe\">\n",
       "  <thead>\n",
       "    <tr style=\"text-align: right;\">\n",
       "      <th></th>\n",
       "      <th>hierarchy</th>\n",
       "      <th>lat</th>\n",
       "      <th>link</th>\n",
       "      <th>lng</th>\n",
       "      <th>name</th>\n",
       "      <th>nearby_places</th>\n",
       "      <th>similar_places</th>\n",
       "      <th>tag</th>\n",
       "    </tr>\n",
       "  </thead>\n",
       "  <tbody>\n",
       "    <tr>\n",
       "      <th>94117</th>\n",
       "      <td>World,India,Bihar,Bhagalpur</td>\n",
       "      <td>25.153151</td>\n",
       "      <td>http://wikimapia.org/4799375/Shah-Family-Farm-...</td>\n",
       "      <td>86.986705</td>\n",
       "      <td>Shah Family Farm House, Balwachak, Bhagalpur</td>\n",
       "      <td>[{'name': 'GOUTAM RAJ', 'distance': '0.7\\xa0km...</td>\n",
       "      <td>[{'name': 'Maa Kalika Tent House Kharahara Nea...</td>\n",
       "      <td>NaN</td>\n",
       "    </tr>\n",
       "    <tr>\n",
       "      <th>94118</th>\n",
       "      <td>World,India,Bihar,Bhagalpur</td>\n",
       "      <td>25.246657</td>\n",
       "      <td>http://wikimapia.org/4799242/Shah-Market</td>\n",
       "      <td>86.977022</td>\n",
       "      <td>Shah Market - Bhagalpur</td>\n",
       "      <td>[{'name': 'G.G.HIGH SCHOOL', 'distance': '0.4\\...</td>\n",
       "      <td>[{'name': 'Machhipur', 'distance': '8.2\\xa0km'...</td>\n",
       "      <td>marketplace</td>\n",
       "    </tr>\n",
       "    <tr>\n",
       "      <th>94119</th>\n",
       "      <td>World,India,Bihar,Bhagalpur</td>\n",
       "      <td>25.229713</td>\n",
       "      <td>http://wikimapia.org/4791543/Kaushal-Kishore-R...</td>\n",
       "      <td>86.983674</td>\n",
       "      <td>Kaushal Kishore Roy, Madhu Roy's home - Bhagalpur</td>\n",
       "      <td>[{'name': 'kamal nagar colony', 'distance': '0...</td>\n",
       "      <td>[{'name': 'Ram Nagar Colony : Near Kutubganj (...</td>\n",
       "      <td>NaN</td>\n",
       "    </tr>\n",
       "    <tr>\n",
       "      <th>94120</th>\n",
       "      <td>World,India,Bihar,Bhagalpur</td>\n",
       "      <td>25.253565</td>\n",
       "      <td>http://wikimapia.org/4788374/GULMOHAR-meghna-e...</td>\n",
       "      <td>87.002551</td>\n",
       "      <td>GULMOHAR(meghna enterprises) - Bhagalpur</td>\n",
       "      <td>[{'name': 'Sandish Compound ', 'distance': '0....</td>\n",
       "      <td>[{'name': 'HOSPITAL RESIDENTIAL COMPLEX', 'dis...</td>\n",
       "      <td>NaN</td>\n",
       "    </tr>\n",
       "    <tr>\n",
       "      <th>94121</th>\n",
       "      <td>World,India,Bihar,Bhagalpur</td>\n",
       "      <td>25.219348</td>\n",
       "      <td>http://wikimapia.org/4775644/Surya-Lok-Colony-...</td>\n",
       "      <td>86.982542</td>\n",
       "      <td>Surya Lok Colony, Near Bagbari Bazar Samiti - ...</td>\n",
       "      <td>[{'name': 'Bhagalpur Co-operative Spinning Mil...</td>\n",
       "      <td>[{'name': 'Punjabi Colony', 'distance': '141\\x...</td>\n",
       "      <td>housing / apartment colony</td>\n",
       "    </tr>\n",
       "  </tbody>\n",
       "</table>\n",
       "</div>"
      ],
      "text/plain": [
       "                         hierarchy        lat  \\\n",
       "94117  World,India,Bihar,Bhagalpur  25.153151   \n",
       "94118  World,India,Bihar,Bhagalpur  25.246657   \n",
       "94119  World,India,Bihar,Bhagalpur  25.229713   \n",
       "94120  World,India,Bihar,Bhagalpur  25.253565   \n",
       "94121  World,India,Bihar,Bhagalpur  25.219348   \n",
       "\n",
       "                                                    link        lng  \\\n",
       "94117  http://wikimapia.org/4799375/Shah-Family-Farm-...  86.986705   \n",
       "94118           http://wikimapia.org/4799242/Shah-Market  86.977022   \n",
       "94119  http://wikimapia.org/4791543/Kaushal-Kishore-R...  86.983674   \n",
       "94120  http://wikimapia.org/4788374/GULMOHAR-meghna-e...  87.002551   \n",
       "94121  http://wikimapia.org/4775644/Surya-Lok-Colony-...  86.982542   \n",
       "\n",
       "                                                    name  \\\n",
       "94117       Shah Family Farm House, Balwachak, Bhagalpur   \n",
       "94118                            Shah Market - Bhagalpur   \n",
       "94119  Kaushal Kishore Roy, Madhu Roy's home - Bhagalpur   \n",
       "94120           GULMOHAR(meghna enterprises) - Bhagalpur   \n",
       "94121  Surya Lok Colony, Near Bagbari Bazar Samiti - ...   \n",
       "\n",
       "                                           nearby_places  \\\n",
       "94117  [{'name': 'GOUTAM RAJ', 'distance': '0.7\\xa0km...   \n",
       "94118  [{'name': 'G.G.HIGH SCHOOL', 'distance': '0.4\\...   \n",
       "94119  [{'name': 'kamal nagar colony', 'distance': '0...   \n",
       "94120  [{'name': 'Sandish Compound ', 'distance': '0....   \n",
       "94121  [{'name': 'Bhagalpur Co-operative Spinning Mil...   \n",
       "\n",
       "                                          similar_places  \\\n",
       "94117  [{'name': 'Maa Kalika Tent House Kharahara Nea...   \n",
       "94118  [{'name': 'Machhipur', 'distance': '8.2\\xa0km'...   \n",
       "94119  [{'name': 'Ram Nagar Colony : Near Kutubganj (...   \n",
       "94120  [{'name': 'HOSPITAL RESIDENTIAL COMPLEX', 'dis...   \n",
       "94121  [{'name': 'Punjabi Colony', 'distance': '141\\x...   \n",
       "\n",
       "                              tag  \n",
       "94117                         NaN  \n",
       "94118                 marketplace  \n",
       "94119                         NaN  \n",
       "94120                         NaN  \n",
       "94121  housing / apartment colony  "
      ]
     },
     "execution_count": 17,
     "metadata": {},
     "output_type": "execute_result"
    }
   ],
   "source": [
    "bgp.head()"
   ]
  },
  {
   "cell_type": "code",
   "execution_count": 18,
   "id": "630dc882-9429-4206-90a0-6a052a0cdd9d",
   "metadata": {},
   "outputs": [
    {
     "data": {
      "text/plain": [
       "111546"
      ]
     },
     "execution_count": 18,
     "metadata": {},
     "output_type": "execute_result"
    }
   ],
   "source": [
    "len(df)"
   ]
  },
  {
   "cell_type": "code",
   "execution_count": 19,
   "id": "b47ca0ff-36b6-44b9-ae3f-6d2b567d8f00",
   "metadata": {},
   "outputs": [
    {
     "data": {
      "text/plain": [
       "32385"
      ]
     },
     "execution_count": 19,
     "metadata": {},
     "output_type": "execute_result"
    }
   ],
   "source": [
    "len(pd.read_csv(\"0_2.csv\"))+len(pd.read_csv(\"2_4.csv\"))+len(pd.read_csv(\"4_20.csv\"))+len(pd.read_csv(\"20_30.csv\"))+len(pd.read_csv(\"30_40.csv\"))\n"
   ]
  },
  {
   "cell_type": "code",
   "execution_count": 20,
   "id": "ecc4acfb-908d-4557-81ff-88519ea965e8",
   "metadata": {},
   "outputs": [
    {
     "data": {
      "text/plain": [
       "79161"
      ]
     },
     "execution_count": 20,
     "metadata": {},
     "output_type": "execute_result"
    }
   ],
   "source": [
    "len(pd.read_csv(\"40_100.csv\"))+len(pd.read_csv(\"100_120.csv\"))"
   ]
  },
  {
   "cell_type": "code",
   "execution_count": 21,
   "id": "ca2ef5d9-2812-41dd-9a6c-34f1a2d73eaa",
   "metadata": {},
   "outputs": [
    {
     "data": {
      "text/plain": [
       "111546"
      ]
     },
     "execution_count": 21,
     "metadata": {},
     "output_type": "execute_result"
    }
   ],
   "source": [
    "32385+79161"
   ]
  },
  {
   "cell_type": "code",
   "execution_count": null,
   "id": "8afc5fb2-0a6d-4963-b3d9-dfdcbd131deb",
   "metadata": {},
   "outputs": [],
   "source": []
  },
  {
   "cell_type": "code",
   "execution_count": null,
   "id": "2ea8578b-08a4-4492-86f5-7b24e1627d0b",
   "metadata": {},
   "outputs": [],
   "source": []
  },
  {
   "cell_type": "code",
   "execution_count": null,
   "id": "b9f13931-e73e-459a-ac1b-f8887e67de02",
   "metadata": {},
   "outputs": [],
   "source": []
  },
  {
   "cell_type": "code",
   "execution_count": null,
   "id": "3a29b07b-9819-44eb-8f34-8fb58f93ec0d",
   "metadata": {},
   "outputs": [],
   "source": []
  },
  {
   "cell_type": "code",
   "execution_count": 3,
   "id": "70ec44ca-7f29-4b27-af33-8370d8204c10",
   "metadata": {},
   "outputs": [],
   "source": [
    "\n",
    "def ngrams(tokens, ngram = 1):\n",
    "    grams = []\n",
    "    for i in range(len(tokens)-(ngram -1)):\n",
    "        grams.append('_:_'.join(tokens[i:i + ngram]))\n",
    "    return set(grams)"
   ]
  },
  {
   "cell_type": "code",
   "execution_count": 4,
   "id": "033eecc1-3eb9-451e-9400-cedc0895d224",
   "metadata": {},
   "outputs": [
    {
     "data": {
      "text/plain": [
       "{'ali', 'bahadurganj', 'chowk', 'hussain'}"
      ]
     },
     "execution_count": 4,
     "metadata": {},
     "output_type": "execute_result"
    }
   ],
   "source": [
    "ngrams(['bahadurganj','ali','hussain','chowk'],1)"
   ]
  },
  {
   "cell_type": "code",
   "execution_count": 5,
   "id": "a7e1ea1a-33b7-4235-9c66-c3156cd8c7c8",
   "metadata": {},
   "outputs": [
    {
     "data": {
      "text/plain": [
       "{'ali_:_hussain', 'bahadurganj_:_ali', 'hussain_:_chowk'}"
      ]
     },
     "execution_count": 5,
     "metadata": {},
     "output_type": "execute_result"
    }
   ],
   "source": [
    "ngrams(['bahadurganj','ali','hussain','chowk'],2)"
   ]
  },
  {
   "cell_type": "code",
   "execution_count": 6,
   "id": "3e4c671f-9283-409f-b001-98aa2b2a3d9d",
   "metadata": {},
   "outputs": [
    {
     "data": {
      "text/plain": [
       "{'ali_:_hussain_:_chowk', 'bahadurganj_:_ali_:_hussain'}"
      ]
     },
     "execution_count": 6,
     "metadata": {},
     "output_type": "execute_result"
    }
   ],
   "source": [
    "ngrams(['bahadurganj','ali','hussain','chowk'],3)"
   ]
  },
  {
   "cell_type": "code",
   "execution_count": 7,
   "id": "0f74eb1f-484d-4d6f-92d8-b1c470669681",
   "metadata": {},
   "outputs": [],
   "source": [
    "a={\"a\":2,\"b\":3}"
   ]
  },
  {
   "cell_type": "code",
   "execution_count": 8,
   "id": "c2d1a3ac-239e-4b62-ab36-c796a41b0dde",
   "metadata": {},
   "outputs": [
    {
     "data": {
      "text/plain": [
       "dict_keys(['a', 'b'])"
      ]
     },
     "execution_count": 8,
     "metadata": {},
     "output_type": "execute_result"
    }
   ],
   "source": [
    "a.keys()"
   ]
  },
  {
   "cell_type": "code",
   "execution_count": 9,
   "id": "8cfab687-ec53-4df9-ad90-59def808c7e4",
   "metadata": {},
   "outputs": [
    {
     "data": {
      "text/plain": [
       "dict_values([2, 3])"
      ]
     },
     "execution_count": 9,
     "metadata": {},
     "output_type": "execute_result"
    }
   ],
   "source": [
    "a.values()"
   ]
  },
  {
   "cell_type": "code",
   "execution_count": 11,
   "id": "fc3ed68b-ed9d-4276-a226-aebb309a6026",
   "metadata": {},
   "outputs": [
    {
     "data": {
      "text/plain": [
       "[4, 16]"
      ]
     },
     "execution_count": 11,
     "metadata": {},
     "output_type": "execute_result"
    }
   ],
   "source": [
    "lst=[1,2,3,4,5]\n",
    "[x**2 for x in lst if x%2==0]"
   ]
  },
  {
   "cell_type": "code",
   "execution_count": 2,
   "id": "ae2a2edb-1ac3-4e22-8970-a549a8c2dd99",
   "metadata": {},
   "outputs": [
    {
     "data": {
      "text/plain": [
       "False"
      ]
     },
     "execution_count": 2,
     "metadata": {},
     "output_type": "execute_result"
    }
   ],
   "source": [
    "bool(None)"
   ]
  },
  {
   "cell_type": "code",
   "execution_count": null,
   "id": "02c14795-c235-40ba-9529-fa6a714cec94",
   "metadata": {},
   "outputs": [],
   "source": []
  },
  {
   "cell_type": "code",
   "execution_count": 3,
   "id": "8295ec6d-2ab2-452c-b720-bc870b101a55",
   "metadata": {},
   "outputs": [],
   "source": [
    "add=\"308 3rd floor... , Innovation appartments 1st , building....p.g.road opposite dimmy pan shop ,  , \"    "
   ]
  },
  {
   "cell_type": "code",
   "execution_count": null,
   "id": "83c37cd8-e468-407b-8e52-df954b0ea560",
   "metadata": {},
   "outputs": [],
   "source": []
  },
  {
   "cell_type": "code",
   "execution_count": null,
   "id": "4c64c564-d7ec-48e3-b89b-84bfe4bafe9f",
   "metadata": {},
   "outputs": [],
   "source": []
  },
  {
   "cell_type": "code",
   "execution_count": null,
   "id": "baef4e3c-c88d-4aac-a24f-03bbb80162be",
   "metadata": {},
   "outputs": [],
   "source": []
  },
  {
   "cell_type": "code",
   "execution_count": null,
   "id": "ecfe1fed-e7e9-4a89-9e2a-130591136969",
   "metadata": {},
   "outputs": [],
   "source": []
  },
  {
   "cell_type": "code",
   "execution_count": null,
   "id": "01dcb0e0-08be-47a2-93ec-c1fac82f8d04",
   "metadata": {},
   "outputs": [],
   "source": []
  },
  {
   "cell_type": "code",
   "execution_count": null,
   "id": "998bf47a-92c6-4b63-95a6-f0f33899978c",
   "metadata": {},
   "outputs": [],
   "source": []
  }
 ],
 "metadata": {
  "kernelspec": {
   "display_name": "Python 3",
   "language": "python",
   "name": "python3"
  },
  "language_info": {
   "codemirror_mode": {
    "name": "ipython",
    "version": 3
   },
   "file_extension": ".py",
   "mimetype": "text/x-python",
   "name": "python",
   "nbconvert_exporter": "python",
   "pygments_lexer": "ipython3",
   "version": "3.8.11"
  }
 },
 "nbformat": 4,
 "nbformat_minor": 5
}
